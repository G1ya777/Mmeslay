{
 "cells": [
  {
   "cell_type": "code",
   "execution_count": 2,
   "metadata": {},
   "outputs": [],
   "source": [
    "import sentencepiece as spm"
   ]
  },
  {
   "cell_type": "code",
   "execution_count": 3,
   "metadata": {},
   "outputs": [
    {
     "name": "stderr",
     "output_type": "stream",
     "text": [
      "sentencepiece_trainer.cc(77) LOG(INFO) Starts training with : \n",
      "trainer_spec {\n",
      "  input: ./train_v2.txt\n",
      "  input_format: \n",
      "  model_prefix: char_v3\n",
      "  model_type: CHAR\n",
      "  vocab_size: 8000\n",
      "  self_test_sample_size: 0\n",
      "  character_coverage: 0.9999\n",
      "  input_sentence_size: 0\n",
      "  shuffle_input_sentence: 1\n",
      "  seed_sentencepiece_size: 1000000\n",
      "  shrinking_factor: 0.75\n",
      "  max_sentence_length: 4192\n",
      "  num_threads: 16\n",
      "  num_sub_iterations: 2\n",
      "  max_sentencepiece_length: 16\n",
      "  split_by_unicode_script: 1\n",
      "  split_by_number: 1\n",
      "  split_by_whitespace: 1\n",
      "  split_digits: 0\n",
      "  treat_whitespace_as_suffix: 0\n",
      "  allow_whitespace_only_pieces: 0\n",
      "  required_chars: \n",
      "  byte_fallback: 0\n",
      "  vocabulary_output_piece_score: 1\n",
      "  train_extremely_large_corpus: 0\n",
      "  hard_vocab_limit: 1\n",
      "  use_all_vocab: 0\n",
      "  unk_id: 0\n",
      "  bos_id: 1\n",
      "  eos_id: 2\n",
      "  pad_id: -1\n",
      "  unk_piece: <unk>\n",
      "  bos_piece: <s>\n",
      "  eos_piece: </s>\n",
      "  pad_piece: <pad>\n",
      "  unk_surface:  ⁇ \n",
      "  enable_differential_privacy: 0\n",
      "  differential_privacy_noise_level: 0\n",
      "  differential_privacy_clipping_threshold: 0\n",
      "}\n",
      "normalizer_spec {\n",
      "  name: nmt_nfkc\n",
      "  add_dummy_prefix: 1\n",
      "  remove_extra_whitespaces: 1\n",
      "  escape_whitespaces: 1\n",
      "  normalization_rule_tsv: \n",
      "}\n",
      "denormalizer_spec {}\n",
      "trainer_interface.cc(350) LOG(INFO) SentenceIterator is not specified. Using MultiFileSentenceIterator.\n",
      "trainer_interface.cc(181) LOG(INFO) Loading corpus: ./train_v2.txt\n",
      "trainer_interface.cc(406) LOG(INFO) Loaded all 165738 sentences\n",
      "trainer_interface.cc(422) LOG(INFO) Adding meta_piece: <unk>\n",
      "trainer_interface.cc(422) LOG(INFO) Adding meta_piece: <s>\n",
      "trainer_interface.cc(422) LOG(INFO) Adding meta_piece: </s>\n",
      "trainer_interface.cc(427) LOG(INFO) Normalizing sentences...\n",
      "trainer_interface.cc(536) LOG(INFO) all chars count=4512925\n",
      "trainer_interface.cc(547) LOG(INFO) Done: 99.9988% characters are covered.\n",
      "trainer_interface.cc(557) LOG(INFO) Alphabet size=37\n",
      "trainer_interface.cc(558) LOG(INFO) Final character coverage=0.999988\n",
      "trainer_interface.cc(590) LOG(INFO) Done! preprocessed 165738 sentences.\n",
      "trainer_interface.cc(685) LOG(INFO) Saving model: char_v3.model\n",
      "trainer_interface.cc(697) LOG(INFO) Saving vocabs: char_v3.vocab\n"
     ]
    }
   ],
   "source": [
    "spm.SentencePieceTrainer.train(input='./train_v2.txt', model_prefix='128',character_coverage=0.9999,vocab_size=128) "
   ]
  },
  {
   "cell_type": "code",
   "execution_count": 2,
   "metadata": {},
   "outputs": [
    {
     "ename": "AttributeError",
     "evalue": "'SentencePieceProcessor' object has no attribute 'add_piece'",
     "output_type": "error",
     "traceback": [
      "\u001b[0;31m---------------------------------------------------------------------------\u001b[0m",
      "\u001b[0;31mAttributeError\u001b[0m                            Traceback (most recent call last)",
      "Cell \u001b[0;32mIn[2], line 6\u001b[0m\n\u001b[1;32m      4\u001b[0m sp \u001b[39m=\u001b[39m spm\u001b[39m.\u001b[39mSentencePieceProcessor()\n\u001b[1;32m      5\u001b[0m sp\u001b[39m.\u001b[39mload(\u001b[39m\"\u001b[39m\u001b[39m128.model\u001b[39m\u001b[39m\"\u001b[39m)\n\u001b[0;32m----> 6\u001b[0m sp\u001b[39m.\u001b[39;49madd_piece(\u001b[39m'\u001b[39m\u001b[39mp\u001b[39m\u001b[39m'\u001b[39m)\n\u001b[1;32m      7\u001b[0m sp\u001b[39m.\u001b[39madd_piece(\u001b[39m'\u001b[39m\u001b[39mv\u001b[39m\u001b[39m'\u001b[39m)\n",
      "\u001b[0;31mAttributeError\u001b[0m: 'SentencePieceProcessor' object has no attribute 'add_piece'"
     ]
    }
   ],
   "source": [
    "import sentencepiece as spm\n",
    "\n",
    "# Load the original model\n",
    "sp = spm.SentencePieceProcessor()\n",
    "sp.load(\"128.model\")\n",
    "sp.add_piece('p')\n",
    "sp.add_piece('v')\n",
    "# Get the vocabulary list\n",
    "# vocab_size = sp.get_piece_size()\n",
    "# vocab_list = [sp.id_to_piece(i) for i in range(vocab_size)]\n",
    "\n",
    "# # Add the new token at the end of the vocabulary list\n",
    "\n",
    "# vocab_list.append('p')\n",
    "# vocab_list.append('v')\n",
    "# print(vocab_list[1:])\n",
    "# Save the modified vocabulary list to a new file\n",
    "# with open(\"modified_vocab.txt\", \"w\") as f:\n",
    "#     for token in vocab_list:\n",
    "#         f.write(token + \"\\n\")\n",
    "# print(\",\".join(vocab_list[3:]))\n",
    "# Train a new sentence piece model using the modified vocabulary list\n",
    "# spm.SentencePieceTrainer.train(\n",
    "#     input=\"train.txt\",\n",
    "#     model_prefix=\"new_model_128\",\n",
    "#     vocab_size=130,\n",
    "#     model_type=\"unigram\",\n",
    "#     character_coverage=0.9995,\n",
    "#     user_defined_symbols = vocab_list\n",
    "# )"
   ]
  },
  {
   "cell_type": "code",
   "execution_count": null,
   "metadata": {},
   "outputs": [],
   "source": []
  }
 ],
 "metadata": {
  "kernelspec": {
   "display_name": "primary-env",
   "language": "python",
   "name": "python3"
  },
  "language_info": {
   "codemirror_mode": {
    "name": "ipython",
    "version": 3
   },
   "file_extension": ".py",
   "mimetype": "text/x-python",
   "name": "python",
   "nbconvert_exporter": "python",
   "pygments_lexer": "ipython3",
   "version": "3.9.16"
  },
  "orig_nbformat": 4
 },
 "nbformat": 4,
 "nbformat_minor": 2
}
